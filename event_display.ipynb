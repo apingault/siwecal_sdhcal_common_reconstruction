{
 "cells": [
  {
   "cell_type": "markdown",
   "metadata": {},
   "source": [
    "# Common event display\n",
    "\n",
    "Edit the config in the second cell in step 1. Then hit `shift-enter` in each cell to run them.  \n",
    "Actual event display occurs on the last cell...but all previous celle need to be run previously"
   ]
  },
  {
   "cell_type": "code",
   "execution_count": 2,
   "metadata": {},
   "outputs": [],
   "source": [
    "import uproot\n",
    "import pandas as pd\n",
    "from tqdm.auto import tqdm\n",
    "\n",
    "%matplotlib widget\n",
    "import matplotlib.pyplot as plt\n",
    "from matplotlib.patches import Rectangle\n",
    "\n",
    "from ipywidgets import interact, interactive, fixed, interact_manual\n",
    "import ipywidgets as widgets"
   ]
  },
  {
   "cell_type": "markdown",
   "metadata": {},
   "source": [
    "1. Edit the following config cell (run_number, files paths, position adjustement, etc.)"
   ]
  },
  {
   "cell_type": "code",
   "execution_count": 3,
   "metadata": {},
   "outputs": [],
   "source": [
    "save_display = False # Auto save each event display, Saving is actually quite long. Set to False to just look at the events\n",
    "run_number = 744318\n",
    "shift_window = 10 # In clock\n",
    "bcid_shift = 2488\n",
    "\n",
    "hcal_pads = 96\n",
    "hcal_padsize = 10.408\n",
    "hcal_layersize = 28\n",
    "hcal_layers = 37\n",
    "hcal_side = hcal_pads * hcal_padsize\n",
    "hcal_depth = hcal_layers * hcal_layersize\n",
    "\n",
    "shift_x = 225 # distance from the left edge of ECAL and left edge of HCAL\n",
    "shift_y = 377 # distance from the bottom edge of ECAL and bottom edge of HCAL\n",
    "\n",
    "ecal_pixels = 32\n",
    "ecal_pixelsize = 5.5\n",
    "ecal_layersize = 15\n",
    "ecal_slabs = 10\n",
    "ecal_side = ecal_pixels * ecal_pixelsize\n",
    "ecal_depth = ecal_slabs * ecal_layersize\n",
    "ecal_shiftx = shift_x + ecal_side/2 + ecal_pixelsize/2\n",
    "ecal_shifty = shift_y + ecal_side/2 + ecal_pixelsize/2\n",
    "\n",
    "# Canvas size, should not need to update\n",
    "w, h, dpi = 800, 600, 96 \n",
    "\n",
    "# Read data directly from eos via xroot, you need to be identified with a kerberos5 token to use this feature\n",
    "use_xroot = True\n",
    "xroot_url = 'root://eosuser.cern.ch/'\n",
    "\n",
    "hcal_file_name = '/eos/user/a/apingaul/CALICE/Data/SPS_09_2018/Trivent/DHCAL_Trivent_Ecal_{}.root'.format(run_number)\n",
    "hcal_tree_name = 'sdhcal'\n",
    "hcal_branches = ['EvtNum', 'HitX', 'HitY', 'HitZ', 'HitThresh']\n",
    "\n",
    "# ecal_file_name = '/eos/project/s/siw-ecal/TB2018-09/Common/ECAL/Muon_200GeV/{}__build.root'.format(run_number)\n",
    "ecal_file_name = '/eos/project/s/siw-ecal/TB2018-09/Common/ECAL/PiPlus_70GeV/{}__build.root'.format(run_number)\n",
    "ecal_tree_name = 'ecal'\n",
    "ecal_branches = ['event', 'hit_x', 'hit_y', 'hit_z','nhit_slab']\n",
    "\n",
    "\n",
    "common_file_name = '/eos/user/a/apingaul/CALICE/Data/SPS_09_2018/Trivent/Common_{}_bcid_corrected.root'.format(run_number)\n",
    "common_tree_name = 'common'\n",
    "\n",
    "if use_xroot:\n",
    "    hcal_file_name = xroot_url + hcal_file_name\n",
    "    ecal_file_name = xroot_url + ecal_file_name\n",
    "    common_file_name = xroot_url + common_file_name"
   ]
  },
  {
   "cell_type": "markdown",
   "metadata": {},
   "source": [
    "2. Open the files (depending on the number of events in ecal/hcal this might take up to a couple minutes...)"
   ]
  },
  {
   "cell_type": "code",
   "execution_count": 22,
   "metadata": {},
   "outputs": [
    {
     "data": {
      "text/plain": [
       "'common ok'"
      ]
     },
     "metadata": {},
     "output_type": "display_data"
    }
   ],
   "source": [
    "df_common = uproot.open(common_file_name)[common_tree_name].pandas.df().query('delta_revbcid_corrected>={} and delta_revbcid_corrected<={}'.format(bcid_shift-shift_window,bcid_shift+shift_window))\n",
    "display('common ok')\n",
    "# df_hcal = uproot.open(hcal_file_name)[hcal_tree_name].pandas.df(hcal_branches)\n",
    "# display('hcal ok')\n",
    "# df_ecal = uproot.open(ecal_file_name)[ecal_tree_name].pandas.df(ecal_branches)\n",
    "# display('ecal ok')"
   ]
  },
  {
   "cell_type": "markdown",
   "metadata": {},
   "source": [
    "3. Drawing functions definition, nothing to do just run it (with `shift-enter`)"
   ]
  },
  {
   "cell_type": "code",
   "execution_count": 23,
   "metadata": {},
   "outputs": [],
   "source": [
    "shift_zhcal = df_hcal['HitZ'].min()\n",
    "max_zhcal = df_hcal['HitZ'].max()\n",
    "\n",
    "def draw_calo_silouhette(ax, draw_ecal=True, draw_hcal=True):\n",
    "    if draw_ecal:\n",
    "        draw_options = {\n",
    "            'linewidth': 1,\n",
    "            'linestyle': '--',\n",
    "            'edgecolor': 'orange',\n",
    "            'fill': False\n",
    "        }\n",
    "        ax[0].add_patch(Rectangle((shift_x, shift_y), ecal_side,  ecal_side, **draw_options))\n",
    "        ax[1].add_patch(Rectangle((0, shift_x),       ecal_depth, ecal_side, **draw_options))\n",
    "        ax[2].add_patch(Rectangle((0, shift_y),       ecal_depth, ecal_side, **draw_options))\n",
    "\n",
    "    \n",
    "    if draw_hcal:\n",
    "        draw_options = {\n",
    "            'linewidth': 1,\n",
    "            'linestyle': '--',\n",
    "            'edgecolor': 'black',\n",
    "            'fill': False\n",
    "        }\n",
    "        ax[0].add_patch(Rectangle((0, 0),           hcal_side,  hcal_side, **draw_options))\n",
    "        ax[1].add_patch(Rectangle((shift_zhcal, 0), hcal_depth, hcal_side, **draw_options))\n",
    "        ax[2].add_patch(Rectangle((shift_zhcal, 0), hcal_depth, hcal_side, **draw_options))\n",
    "\n",
    "# ------------------------------------------------------------------------ \n",
    "# ------------------------------------------------------------------------ \n",
    "def plot_common(iEntry, save_display, canvas_options=None, marker_size=2, draw_ecal=True, draw_hcal=True):\n",
    "    plt.close('all') # Clean the list of figures, handy when calling multiple times this cell\n",
    "    with plt.xkcd(.5, 100, 2):\n",
    "        fig_xyz, ax_xyz = plt.subplots(**canvas_options)\n",
    "        ax_xyz[0].set(xlabel='X (mm)', ylabel='Y (mm)', title='Front view')\n",
    "        ax_xyz[1].set(xlabel='Z (mm)', ylabel='X (mm)', title='Top View')\n",
    "        ax_xyz[2].set(xlabel='Z (mm)', ylabel='Y (mm)', title='Side View')\n",
    "\n",
    "        axis_overflow=50\n",
    "        ax_xyz[0].set_xlim(-axis_overflow, hcal_side + axis_overflow)\n",
    "        ax_xyz[0].set_ylim(-axis_overflow, hcal_side + axis_overflow )\n",
    "\n",
    "        ax_xyz[1].set_xlim(-axis_overflow, shift_zhcal + hcal_depth + axis_overflow)\n",
    "        ax_xyz[1].set_ylim(-axis_overflow, hcal_side + axis_overflow)\n",
    "\n",
    "        ax_xyz[2].set_xlim(-axis_overflow, shift_zhcal + hcal_depth + axis_overflow)\n",
    "        ax_xyz[2].set_ylim(-axis_overflow, hcal_side + axis_overflow)\n",
    "    \n",
    "    df_entry = df_common.iloc[iEntry]\n",
    "    trigger = df_entry['ecal_spill']\n",
    "    ecal_evt = df_entry['ecal_event']\n",
    "    hcal_evt = df_entry['sdhcal_EvtNum']\n",
    "    delta_bcid = df_entry['delta_revbcid_corrected']\n",
    "    print('Trigger/spill: {}'.format(trigger))\n",
    "    fig_xyz.suptitle('Run={} - trig/spill={} - ecal_evt={} - sdhcal_evt={} - $\\Delta$bcid={}'.format(run_number, trigger, ecal_evt, hcal_evt, delta_bcid))\n",
    "    print('\\t Events: sdhcal: {} - ecal: {} - Delta_bcid: {}'.format(hcal_evt, ecal_evt, delta_bcid))\n",
    "\n",
    "    df_hcal_evt = df_hcal.query('EvtNum=={}'.format(hcal_evt))\n",
    "    df_ecal_evt = df_ecal.query('event=={}'.format(ecal_evt))\n",
    "    color = ['g', 'b', 'r']\n",
    "    for thresh in range(1, 4):\n",
    "        df_thresh = df_hcal_evt.query('HitThresh=={}'.format(thresh))\n",
    "        ax_xyz[0].scatter(df_thresh['HitX'], df_thresh['HitY'], c=color[thresh-1], s=marker_size)\n",
    "        ax_xyz[1].scatter(df_thresh['HitZ'], df_thresh['HitX'], c=color[thresh-1], s=marker_size)\n",
    "        ax_xyz[2].scatter(df_thresh['HitZ'], df_thresh['HitY'], c=color[thresh-1], label='sdhcal_thresh{}'.format(thresh), s=marker_size)\n",
    "\n",
    "    # Ecal, (0, 0) of the ecal hits at the center of the ecal -> hit need to be repositionned on the common frame, \n",
    "    ax_xyz[0].scatter(df_ecal_evt['hit_x'] + ecal_shiftx,    df_ecal_evt['hit_y'] + ecal_shifty, c='orange', s=marker_size)\n",
    "    ax_xyz[1].scatter(df_ecal_evt['hit_z'] * ecal_layersize, df_ecal_evt['hit_x'] + ecal_shiftx, c='orange', s=marker_size)\n",
    "    ax_xyz[2].scatter(df_ecal_evt['hit_z'] * ecal_layersize, df_ecal_evt['hit_y'] + ecal_shifty, c='orange', label='ecal', s=marker_size)\n",
    "\n",
    "    # Draw ecal silouhette\n",
    "    draw_calo_silouhette(ax_xyz, draw_ecal, draw_hcal)\n",
    "\n",
    "    # Show the legend\n",
    "    with plt.xkcd(.5, 100, 2):\n",
    "        ax_xyz[2].legend(loc='upper right', fontsize='x-small')\n",
    "        \n",
    "    fig_xyz.subplots_adjust(top=0.8)\n",
    "    \n",
    "    if save_display:\n",
    "        fig_xyz.savefig('./Figs/Event_display_{}_trig{}_ecal{}_sdhcal{}.png'.format(run_number, trigger, ecal_evt, hcal_evt), transparent=False, dpi=96, bbox_inches=\"tight\")\n",
    "\n",
    "\n",
    "# Make some widget to interact with\n",
    "slider_event = widgets.IntSlider(value=0, max=len(df_common), description='Entry')\n",
    "button_next = widgets.Button(description='Next')\n",
    "button_prev = widgets.Button(description='Prev')\n",
    "button_save = widgets.Button(description='Save')\n",
    "\n",
    "def next_event(b):\n",
    "    slider_event.value += 1\n",
    "    plot_common(slider_event.value)\n",
    "\n",
    "def prev_event(b):\n",
    "    slider_event.value -= 1\n",
    "    plot_common(slider_event.value)\n",
    "\n",
    "def save_event(b):\n",
    "    plot_common(slider_event.value, True)\n",
    "\n",
    "button_next.on_click(next_event)\n",
    "button_prev.on_click(prev_event)\n",
    "button_save.on_click(save_event)\n",
    "hbox = widgets.HBox([button_prev, button_next, button_save])\n",
    "\n",
    "slider_marker = widgets.IntSlider(value=2, max=10, description='Marker size')\n",
    "button_ecal = widgets.Checkbox(description='Show ecal', value=True)\n",
    "button_hcal = widgets.Checkbox(description='Show hcal', value=True)\n",
    "\n",
    "canvas_options = {\n",
    "    'nrows' : 1,\n",
    "    'ncols': 3,\n",
    "    'dpi' : dpi,\n",
    "}\n",
    "canvas_options['figsize'] = canvas_options['ncols']*w/dpi, canvas_options['nrows']*h/dpi\n",
    "plts = widgets.interactive(plot_common, iEntry=slider_event, save_display=fixed(save_display), canvas_options=fixed(canvas_options), marker_size=slider_marker, show_ecal=button_ecal, show_hcal=button_hcal)"
   ]
  },
  {
   "cell_type": "markdown",
   "metadata": {},
   "source": [
    "4. Finally draw the event display"
   ]
  },
  {
   "cell_type": "code",
   "execution_count": 24,
   "metadata": {},
   "outputs": [
    {
     "data": {
      "application/vnd.jupyter.widget-view+json": {
       "model_id": "58391db65ed74980b2f98987fbc00fd1",
       "version_major": 2,
       "version_minor": 0
      },
      "text/plain": [
       "interactive(children=(IntSlider(value=0, description='Entry', max=310), IntSlider(value=2, description='Marker…"
      ]
     },
     "metadata": {},
     "output_type": "display_data"
    },
    {
     "data": {
      "application/vnd.jupyter.widget-view+json": {
       "model_id": "2fb49da3e2bb4d799b447f79fa08d8e2",
       "version_major": 2,
       "version_minor": 0
      },
      "text/plain": [
       "HBox(children=(Button(description='Prev', style=ButtonStyle()), Button(description='Next', style=ButtonStyle()…"
      ]
     },
     "metadata": {},
     "output_type": "display_data"
    }
   ],
   "source": [
    "display(plts, hbox)"
   ]
  }
 ],
 "metadata": {
  "kernelspec": {
   "display_name": "Python 3",
   "language": "python",
   "name": "python3"
  },
  "language_info": {
   "codemirror_mode": {
    "name": "ipython",
    "version": 3
   },
   "file_extension": ".py",
   "mimetype": "text/x-python",
   "name": "python",
   "nbconvert_exporter": "python",
   "pygments_lexer": "ipython3",
   "version": "3.7.3"
  }
 },
 "nbformat": 4,
 "nbformat_minor": 4
}
